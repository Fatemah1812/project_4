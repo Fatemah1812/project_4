{
 "cells": [
  {
   "cell_type": "markdown",
   "metadata": {},
   "source": [
    "### Introduction:\n",
    "In this data analysis we will try to breifly look at what type of cars are best sellers and how car prices are affected by fuel types and other factors."
   ]
  },
  {
   "cell_type": "code",
   "execution_count": 42,
   "metadata": {},
   "outputs": [],
   "source": [
    "import pandas as pd\n",
    "import plotly.express as px"
   ]
  },
  {
   "cell_type": "code",
   "execution_count": 43,
   "metadata": {},
   "outputs": [
    {
     "data": {
      "text/html": [
       "<div>\n",
       "<style scoped>\n",
       "    .dataframe tbody tr th:only-of-type {\n",
       "        vertical-align: middle;\n",
       "    }\n",
       "\n",
       "    .dataframe tbody tr th {\n",
       "        vertical-align: top;\n",
       "    }\n",
       "\n",
       "    .dataframe thead th {\n",
       "        text-align: right;\n",
       "    }\n",
       "</style>\n",
       "<table border=\"1\" class=\"dataframe\">\n",
       "  <thead>\n",
       "    <tr style=\"text-align: right;\">\n",
       "      <th></th>\n",
       "      <th>price</th>\n",
       "      <th>model_year</th>\n",
       "      <th>model</th>\n",
       "      <th>condition</th>\n",
       "      <th>cylinders</th>\n",
       "      <th>fuel</th>\n",
       "      <th>odometer</th>\n",
       "      <th>transmission</th>\n",
       "      <th>type</th>\n",
       "      <th>paint_color</th>\n",
       "      <th>is_4wd</th>\n",
       "      <th>date_posted</th>\n",
       "      <th>days_listed</th>\n",
       "    </tr>\n",
       "  </thead>\n",
       "  <tbody>\n",
       "    <tr>\n",
       "      <th>0</th>\n",
       "      <td>9400</td>\n",
       "      <td>2011.0</td>\n",
       "      <td>bmw x5</td>\n",
       "      <td>good</td>\n",
       "      <td>6.0</td>\n",
       "      <td>gas</td>\n",
       "      <td>145000.0</td>\n",
       "      <td>automatic</td>\n",
       "      <td>SUV</td>\n",
       "      <td>NaN</td>\n",
       "      <td>1.0</td>\n",
       "      <td>2018-06-23</td>\n",
       "      <td>19</td>\n",
       "    </tr>\n",
       "    <tr>\n",
       "      <th>1</th>\n",
       "      <td>25500</td>\n",
       "      <td>NaN</td>\n",
       "      <td>ford f-150</td>\n",
       "      <td>good</td>\n",
       "      <td>6.0</td>\n",
       "      <td>gas</td>\n",
       "      <td>88705.0</td>\n",
       "      <td>automatic</td>\n",
       "      <td>pickup</td>\n",
       "      <td>white</td>\n",
       "      <td>1.0</td>\n",
       "      <td>2018-10-19</td>\n",
       "      <td>50</td>\n",
       "    </tr>\n",
       "    <tr>\n",
       "      <th>2</th>\n",
       "      <td>5500</td>\n",
       "      <td>2013.0</td>\n",
       "      <td>hyundai sonata</td>\n",
       "      <td>like new</td>\n",
       "      <td>4.0</td>\n",
       "      <td>gas</td>\n",
       "      <td>110000.0</td>\n",
       "      <td>automatic</td>\n",
       "      <td>sedan</td>\n",
       "      <td>red</td>\n",
       "      <td>NaN</td>\n",
       "      <td>2019-02-07</td>\n",
       "      <td>79</td>\n",
       "    </tr>\n",
       "    <tr>\n",
       "      <th>3</th>\n",
       "      <td>1500</td>\n",
       "      <td>2003.0</td>\n",
       "      <td>ford f-150</td>\n",
       "      <td>fair</td>\n",
       "      <td>8.0</td>\n",
       "      <td>gas</td>\n",
       "      <td>NaN</td>\n",
       "      <td>automatic</td>\n",
       "      <td>pickup</td>\n",
       "      <td>NaN</td>\n",
       "      <td>NaN</td>\n",
       "      <td>2019-03-22</td>\n",
       "      <td>9</td>\n",
       "    </tr>\n",
       "    <tr>\n",
       "      <th>4</th>\n",
       "      <td>14900</td>\n",
       "      <td>2017.0</td>\n",
       "      <td>chrysler 200</td>\n",
       "      <td>excellent</td>\n",
       "      <td>4.0</td>\n",
       "      <td>gas</td>\n",
       "      <td>80903.0</td>\n",
       "      <td>automatic</td>\n",
       "      <td>sedan</td>\n",
       "      <td>black</td>\n",
       "      <td>NaN</td>\n",
       "      <td>2019-04-02</td>\n",
       "      <td>28</td>\n",
       "    </tr>\n",
       "    <tr>\n",
       "      <th>5</th>\n",
       "      <td>14990</td>\n",
       "      <td>2014.0</td>\n",
       "      <td>chrysler 300</td>\n",
       "      <td>excellent</td>\n",
       "      <td>6.0</td>\n",
       "      <td>gas</td>\n",
       "      <td>57954.0</td>\n",
       "      <td>automatic</td>\n",
       "      <td>sedan</td>\n",
       "      <td>black</td>\n",
       "      <td>1.0</td>\n",
       "      <td>2018-06-20</td>\n",
       "      <td>15</td>\n",
       "    </tr>\n",
       "    <tr>\n",
       "      <th>6</th>\n",
       "      <td>12990</td>\n",
       "      <td>2015.0</td>\n",
       "      <td>toyota camry</td>\n",
       "      <td>excellent</td>\n",
       "      <td>4.0</td>\n",
       "      <td>gas</td>\n",
       "      <td>79212.0</td>\n",
       "      <td>automatic</td>\n",
       "      <td>sedan</td>\n",
       "      <td>white</td>\n",
       "      <td>NaN</td>\n",
       "      <td>2018-12-27</td>\n",
       "      <td>73</td>\n",
       "    </tr>\n",
       "    <tr>\n",
       "      <th>7</th>\n",
       "      <td>15990</td>\n",
       "      <td>2013.0</td>\n",
       "      <td>honda pilot</td>\n",
       "      <td>excellent</td>\n",
       "      <td>6.0</td>\n",
       "      <td>gas</td>\n",
       "      <td>109473.0</td>\n",
       "      <td>automatic</td>\n",
       "      <td>SUV</td>\n",
       "      <td>black</td>\n",
       "      <td>1.0</td>\n",
       "      <td>2019-01-07</td>\n",
       "      <td>68</td>\n",
       "    </tr>\n",
       "    <tr>\n",
       "      <th>8</th>\n",
       "      <td>11500</td>\n",
       "      <td>2012.0</td>\n",
       "      <td>kia sorento</td>\n",
       "      <td>excellent</td>\n",
       "      <td>4.0</td>\n",
       "      <td>gas</td>\n",
       "      <td>104174.0</td>\n",
       "      <td>automatic</td>\n",
       "      <td>SUV</td>\n",
       "      <td>NaN</td>\n",
       "      <td>1.0</td>\n",
       "      <td>2018-07-16</td>\n",
       "      <td>19</td>\n",
       "    </tr>\n",
       "    <tr>\n",
       "      <th>9</th>\n",
       "      <td>9200</td>\n",
       "      <td>2008.0</td>\n",
       "      <td>honda pilot</td>\n",
       "      <td>excellent</td>\n",
       "      <td>NaN</td>\n",
       "      <td>gas</td>\n",
       "      <td>147191.0</td>\n",
       "      <td>automatic</td>\n",
       "      <td>SUV</td>\n",
       "      <td>blue</td>\n",
       "      <td>1.0</td>\n",
       "      <td>2019-02-15</td>\n",
       "      <td>17</td>\n",
       "    </tr>\n",
       "  </tbody>\n",
       "</table>\n",
       "</div>"
      ],
      "text/plain": [
       "   price  model_year           model  condition  cylinders fuel  odometer  \\\n",
       "0   9400      2011.0          bmw x5       good        6.0  gas  145000.0   \n",
       "1  25500         NaN      ford f-150       good        6.0  gas   88705.0   \n",
       "2   5500      2013.0  hyundai sonata   like new        4.0  gas  110000.0   \n",
       "3   1500      2003.0      ford f-150       fair        8.0  gas       NaN   \n",
       "4  14900      2017.0    chrysler 200  excellent        4.0  gas   80903.0   \n",
       "5  14990      2014.0    chrysler 300  excellent        6.0  gas   57954.0   \n",
       "6  12990      2015.0    toyota camry  excellent        4.0  gas   79212.0   \n",
       "7  15990      2013.0     honda pilot  excellent        6.0  gas  109473.0   \n",
       "8  11500      2012.0     kia sorento  excellent        4.0  gas  104174.0   \n",
       "9   9200      2008.0     honda pilot  excellent        NaN  gas  147191.0   \n",
       "\n",
       "  transmission    type paint_color  is_4wd date_posted  days_listed  \n",
       "0    automatic     SUV         NaN     1.0  2018-06-23           19  \n",
       "1    automatic  pickup       white     1.0  2018-10-19           50  \n",
       "2    automatic   sedan         red     NaN  2019-02-07           79  \n",
       "3    automatic  pickup         NaN     NaN  2019-03-22            9  \n",
       "4    automatic   sedan       black     NaN  2019-04-02           28  \n",
       "5    automatic   sedan       black     1.0  2018-06-20           15  \n",
       "6    automatic   sedan       white     NaN  2018-12-27           73  \n",
       "7    automatic     SUV       black     1.0  2019-01-07           68  \n",
       "8    automatic     SUV         NaN     1.0  2018-07-16           19  \n",
       "9    automatic     SUV        blue     1.0  2019-02-15           17  "
      ]
     },
     "execution_count": 43,
     "metadata": {},
     "output_type": "execute_result"
    }
   ],
   "source": [
    "vehicles=pd.read_csv('vehicles_us (1).csv')\n",
    "vehicles.head(10)"
   ]
  },
  {
   "cell_type": "code",
   "execution_count": 37,
   "metadata": {},
   "outputs": [
    {
     "name": "stdout",
     "output_type": "stream",
     "text": [
      "<class 'pandas.core.frame.DataFrame'>\n",
      "RangeIndex: 51525 entries, 0 to 51524\n",
      "Data columns (total 13 columns):\n",
      " #   Column        Non-Null Count  Dtype  \n",
      "---  ------        --------------  -----  \n",
      " 0   price         51525 non-null  int64  \n",
      " 1   model_year    47906 non-null  float64\n",
      " 2   model         51525 non-null  object \n",
      " 3   condition     51525 non-null  object \n",
      " 4   cylinders     46265 non-null  float64\n",
      " 5   fuel          51525 non-null  object \n",
      " 6   odometer      43633 non-null  float64\n",
      " 7   transmission  51525 non-null  object \n",
      " 8   type          51525 non-null  object \n",
      " 9   paint_color   42258 non-null  object \n",
      " 10  is_4wd        25572 non-null  float64\n",
      " 11  date_posted   51525 non-null  object \n",
      " 12  days_listed   51525 non-null  int64  \n",
      "dtypes: float64(4), int64(2), object(7)\n",
      "memory usage: 5.1+ MB\n"
     ]
    }
   ],
   "source": [
    "vehicles.info()"
   ]
  },
  {
   "cell_type": "markdown",
   "metadata": {},
   "source": [
    "### Non-Null Values:\n",
    "checking for non-null values. Replacing the non-null value for paint color columns with unknown. For model-year, cylinders, odometer, and is_4wd columns we replace non-null values with 0.0"
   ]
  },
  {
   "cell_type": "code",
   "execution_count": 38,
   "metadata": {},
   "outputs": [],
   "source": [
    "vehicles['paint_color']=vehicles['paint_color'].fillna('unknown')\n",
    "vehicles['model_year']=vehicles['model_year'].fillna(0.0)\n",
    "vehicles['cylinders']=vehicles['cylinders'].fillna(0.0)\n",
    "vehicles['odometer']=vehicles['odometer'].fillna(0.0)\n",
    "vehicles['is_4wd']=vehicles['is_4wd'].fillna(0.0)\n",
    "\n"
   ]
  },
  {
   "cell_type": "markdown",
   "metadata": {},
   "source": [
    "### Duplicates:\n",
    "\n",
    "we will be removing the duplicated rows to ensure accurate data analysis\n"
   ]
  },
  {
   "cell_type": "code",
   "execution_count": 39,
   "metadata": {},
   "outputs": [],
   "source": [
    "vehicles=vehicles.drop_duplicates()   #dropping dublicates    "
   ]
  },
  {
   "cell_type": "markdown",
   "metadata": {},
   "source": [
    "### Car Types That are in high demand:\n",
    "we can see what type of car sells quickly by looking at different car types and for how many days they stay listed. This shows what type of cars are in high demand."
   ]
  },
  {
   "cell_type": "code",
   "execution_count": 40,
   "metadata": {},
   "outputs": [
    {
     "name": "stdout",
     "output_type": "stream",
     "text": [
      "['gas' 'diesel' 'other' 'hybrid' 'electric']\n"
     ]
    },
    {
     "data": {
      "application/vnd.plotly.v1+json": {
       "config": {
        "plotlyServerURL": "https://plot.ly"
       },
       "data": [
        {
         "hovertemplate": "type=%{x}<br>Average days cars are listed=%{y}<extra></extra>",
         "legendgroup": "",
         "marker": {
          "color": "#636efa",
          "symbol": "circle"
         },
         "mode": "markers",
         "name": "",
         "orientation": "v",
         "showlegend": false,
         "type": "scatter",
         "x": [
          "SUV",
          "bus",
          "convertible",
          "coupe",
          "hatchback",
          "mini-van",
          "offroad",
          "other",
          "pickup",
          "sedan",
          "truck",
          "van",
          "wagon"
         ],
         "xaxis": "x",
         "y": {
          "bdata": "0NheXPTjQ0AAAAAAAMBFQMUsR36umENAvqwSqOitQ0Dz630LV0REQGJrEekns0NAZAK9U9cyREAAAAAAgCFDQA/PuURJpENAzZkB4me2Q0BNyy6ua7RDQPcO8x/5WERAO1PPoNhIREA=",
          "dtype": "f8"
         },
         "yaxis": "y"
        }
       ],
       "layout": {
        "legend": {
         "tracegroupgap": 0
        },
        "template": {
         "data": {
          "bar": [
           {
            "error_x": {
             "color": "#2a3f5f"
            },
            "error_y": {
             "color": "#2a3f5f"
            },
            "marker": {
             "line": {
              "color": "#E5ECF6",
              "width": 0.5
             },
             "pattern": {
              "fillmode": "overlay",
              "size": 10,
              "solidity": 0.2
             }
            },
            "type": "bar"
           }
          ],
          "barpolar": [
           {
            "marker": {
             "line": {
              "color": "#E5ECF6",
              "width": 0.5
             },
             "pattern": {
              "fillmode": "overlay",
              "size": 10,
              "solidity": 0.2
             }
            },
            "type": "barpolar"
           }
          ],
          "carpet": [
           {
            "aaxis": {
             "endlinecolor": "#2a3f5f",
             "gridcolor": "white",
             "linecolor": "white",
             "minorgridcolor": "white",
             "startlinecolor": "#2a3f5f"
            },
            "baxis": {
             "endlinecolor": "#2a3f5f",
             "gridcolor": "white",
             "linecolor": "white",
             "minorgridcolor": "white",
             "startlinecolor": "#2a3f5f"
            },
            "type": "carpet"
           }
          ],
          "choropleth": [
           {
            "colorbar": {
             "outlinewidth": 0,
             "ticks": ""
            },
            "type": "choropleth"
           }
          ],
          "contour": [
           {
            "colorbar": {
             "outlinewidth": 0,
             "ticks": ""
            },
            "colorscale": [
             [
              0,
              "#0d0887"
             ],
             [
              0.1111111111111111,
              "#46039f"
             ],
             [
              0.2222222222222222,
              "#7201a8"
             ],
             [
              0.3333333333333333,
              "#9c179e"
             ],
             [
              0.4444444444444444,
              "#bd3786"
             ],
             [
              0.5555555555555556,
              "#d8576b"
             ],
             [
              0.6666666666666666,
              "#ed7953"
             ],
             [
              0.7777777777777778,
              "#fb9f3a"
             ],
             [
              0.8888888888888888,
              "#fdca26"
             ],
             [
              1,
              "#f0f921"
             ]
            ],
            "type": "contour"
           }
          ],
          "contourcarpet": [
           {
            "colorbar": {
             "outlinewidth": 0,
             "ticks": ""
            },
            "type": "contourcarpet"
           }
          ],
          "heatmap": [
           {
            "colorbar": {
             "outlinewidth": 0,
             "ticks": ""
            },
            "colorscale": [
             [
              0,
              "#0d0887"
             ],
             [
              0.1111111111111111,
              "#46039f"
             ],
             [
              0.2222222222222222,
              "#7201a8"
             ],
             [
              0.3333333333333333,
              "#9c179e"
             ],
             [
              0.4444444444444444,
              "#bd3786"
             ],
             [
              0.5555555555555556,
              "#d8576b"
             ],
             [
              0.6666666666666666,
              "#ed7953"
             ],
             [
              0.7777777777777778,
              "#fb9f3a"
             ],
             [
              0.8888888888888888,
              "#fdca26"
             ],
             [
              1,
              "#f0f921"
             ]
            ],
            "type": "heatmap"
           }
          ],
          "histogram": [
           {
            "marker": {
             "pattern": {
              "fillmode": "overlay",
              "size": 10,
              "solidity": 0.2
             }
            },
            "type": "histogram"
           }
          ],
          "histogram2d": [
           {
            "colorbar": {
             "outlinewidth": 0,
             "ticks": ""
            },
            "colorscale": [
             [
              0,
              "#0d0887"
             ],
             [
              0.1111111111111111,
              "#46039f"
             ],
             [
              0.2222222222222222,
              "#7201a8"
             ],
             [
              0.3333333333333333,
              "#9c179e"
             ],
             [
              0.4444444444444444,
              "#bd3786"
             ],
             [
              0.5555555555555556,
              "#d8576b"
             ],
             [
              0.6666666666666666,
              "#ed7953"
             ],
             [
              0.7777777777777778,
              "#fb9f3a"
             ],
             [
              0.8888888888888888,
              "#fdca26"
             ],
             [
              1,
              "#f0f921"
             ]
            ],
            "type": "histogram2d"
           }
          ],
          "histogram2dcontour": [
           {
            "colorbar": {
             "outlinewidth": 0,
             "ticks": ""
            },
            "colorscale": [
             [
              0,
              "#0d0887"
             ],
             [
              0.1111111111111111,
              "#46039f"
             ],
             [
              0.2222222222222222,
              "#7201a8"
             ],
             [
              0.3333333333333333,
              "#9c179e"
             ],
             [
              0.4444444444444444,
              "#bd3786"
             ],
             [
              0.5555555555555556,
              "#d8576b"
             ],
             [
              0.6666666666666666,
              "#ed7953"
             ],
             [
              0.7777777777777778,
              "#fb9f3a"
             ],
             [
              0.8888888888888888,
              "#fdca26"
             ],
             [
              1,
              "#f0f921"
             ]
            ],
            "type": "histogram2dcontour"
           }
          ],
          "mesh3d": [
           {
            "colorbar": {
             "outlinewidth": 0,
             "ticks": ""
            },
            "type": "mesh3d"
           }
          ],
          "parcoords": [
           {
            "line": {
             "colorbar": {
              "outlinewidth": 0,
              "ticks": ""
             }
            },
            "type": "parcoords"
           }
          ],
          "pie": [
           {
            "automargin": true,
            "type": "pie"
           }
          ],
          "scatter": [
           {
            "fillpattern": {
             "fillmode": "overlay",
             "size": 10,
             "solidity": 0.2
            },
            "type": "scatter"
           }
          ],
          "scatter3d": [
           {
            "line": {
             "colorbar": {
              "outlinewidth": 0,
              "ticks": ""
             }
            },
            "marker": {
             "colorbar": {
              "outlinewidth": 0,
              "ticks": ""
             }
            },
            "type": "scatter3d"
           }
          ],
          "scattercarpet": [
           {
            "marker": {
             "colorbar": {
              "outlinewidth": 0,
              "ticks": ""
             }
            },
            "type": "scattercarpet"
           }
          ],
          "scattergeo": [
           {
            "marker": {
             "colorbar": {
              "outlinewidth": 0,
              "ticks": ""
             }
            },
            "type": "scattergeo"
           }
          ],
          "scattergl": [
           {
            "marker": {
             "colorbar": {
              "outlinewidth": 0,
              "ticks": ""
             }
            },
            "type": "scattergl"
           }
          ],
          "scattermap": [
           {
            "marker": {
             "colorbar": {
              "outlinewidth": 0,
              "ticks": ""
             }
            },
            "type": "scattermap"
           }
          ],
          "scattermapbox": [
           {
            "marker": {
             "colorbar": {
              "outlinewidth": 0,
              "ticks": ""
             }
            },
            "type": "scattermapbox"
           }
          ],
          "scatterpolar": [
           {
            "marker": {
             "colorbar": {
              "outlinewidth": 0,
              "ticks": ""
             }
            },
            "type": "scatterpolar"
           }
          ],
          "scatterpolargl": [
           {
            "marker": {
             "colorbar": {
              "outlinewidth": 0,
              "ticks": ""
             }
            },
            "type": "scatterpolargl"
           }
          ],
          "scatterternary": [
           {
            "marker": {
             "colorbar": {
              "outlinewidth": 0,
              "ticks": ""
             }
            },
            "type": "scatterternary"
           }
          ],
          "surface": [
           {
            "colorbar": {
             "outlinewidth": 0,
             "ticks": ""
            },
            "colorscale": [
             [
              0,
              "#0d0887"
             ],
             [
              0.1111111111111111,
              "#46039f"
             ],
             [
              0.2222222222222222,
              "#7201a8"
             ],
             [
              0.3333333333333333,
              "#9c179e"
             ],
             [
              0.4444444444444444,
              "#bd3786"
             ],
             [
              0.5555555555555556,
              "#d8576b"
             ],
             [
              0.6666666666666666,
              "#ed7953"
             ],
             [
              0.7777777777777778,
              "#fb9f3a"
             ],
             [
              0.8888888888888888,
              "#fdca26"
             ],
             [
              1,
              "#f0f921"
             ]
            ],
            "type": "surface"
           }
          ],
          "table": [
           {
            "cells": {
             "fill": {
              "color": "#EBF0F8"
             },
             "line": {
              "color": "white"
             }
            },
            "header": {
             "fill": {
              "color": "#C8D4E3"
             },
             "line": {
              "color": "white"
             }
            },
            "type": "table"
           }
          ]
         },
         "layout": {
          "annotationdefaults": {
           "arrowcolor": "#2a3f5f",
           "arrowhead": 0,
           "arrowwidth": 1
          },
          "autotypenumbers": "strict",
          "coloraxis": {
           "colorbar": {
            "outlinewidth": 0,
            "ticks": ""
           }
          },
          "colorscale": {
           "diverging": [
            [
             0,
             "#8e0152"
            ],
            [
             0.1,
             "#c51b7d"
            ],
            [
             0.2,
             "#de77ae"
            ],
            [
             0.3,
             "#f1b6da"
            ],
            [
             0.4,
             "#fde0ef"
            ],
            [
             0.5,
             "#f7f7f7"
            ],
            [
             0.6,
             "#e6f5d0"
            ],
            [
             0.7,
             "#b8e186"
            ],
            [
             0.8,
             "#7fbc41"
            ],
            [
             0.9,
             "#4d9221"
            ],
            [
             1,
             "#276419"
            ]
           ],
           "sequential": [
            [
             0,
             "#0d0887"
            ],
            [
             0.1111111111111111,
             "#46039f"
            ],
            [
             0.2222222222222222,
             "#7201a8"
            ],
            [
             0.3333333333333333,
             "#9c179e"
            ],
            [
             0.4444444444444444,
             "#bd3786"
            ],
            [
             0.5555555555555556,
             "#d8576b"
            ],
            [
             0.6666666666666666,
             "#ed7953"
            ],
            [
             0.7777777777777778,
             "#fb9f3a"
            ],
            [
             0.8888888888888888,
             "#fdca26"
            ],
            [
             1,
             "#f0f921"
            ]
           ],
           "sequentialminus": [
            [
             0,
             "#0d0887"
            ],
            [
             0.1111111111111111,
             "#46039f"
            ],
            [
             0.2222222222222222,
             "#7201a8"
            ],
            [
             0.3333333333333333,
             "#9c179e"
            ],
            [
             0.4444444444444444,
             "#bd3786"
            ],
            [
             0.5555555555555556,
             "#d8576b"
            ],
            [
             0.6666666666666666,
             "#ed7953"
            ],
            [
             0.7777777777777778,
             "#fb9f3a"
            ],
            [
             0.8888888888888888,
             "#fdca26"
            ],
            [
             1,
             "#f0f921"
            ]
           ]
          },
          "colorway": [
           "#636efa",
           "#EF553B",
           "#00cc96",
           "#ab63fa",
           "#FFA15A",
           "#19d3f3",
           "#FF6692",
           "#B6E880",
           "#FF97FF",
           "#FECB52"
          ],
          "font": {
           "color": "#2a3f5f"
          },
          "geo": {
           "bgcolor": "white",
           "lakecolor": "white",
           "landcolor": "#E5ECF6",
           "showlakes": true,
           "showland": true,
           "subunitcolor": "white"
          },
          "hoverlabel": {
           "align": "left"
          },
          "hovermode": "closest",
          "mapbox": {
           "style": "light"
          },
          "paper_bgcolor": "white",
          "plot_bgcolor": "#E5ECF6",
          "polar": {
           "angularaxis": {
            "gridcolor": "white",
            "linecolor": "white",
            "ticks": ""
           },
           "bgcolor": "#E5ECF6",
           "radialaxis": {
            "gridcolor": "white",
            "linecolor": "white",
            "ticks": ""
           }
          },
          "scene": {
           "xaxis": {
            "backgroundcolor": "#E5ECF6",
            "gridcolor": "white",
            "gridwidth": 2,
            "linecolor": "white",
            "showbackground": true,
            "ticks": "",
            "zerolinecolor": "white"
           },
           "yaxis": {
            "backgroundcolor": "#E5ECF6",
            "gridcolor": "white",
            "gridwidth": 2,
            "linecolor": "white",
            "showbackground": true,
            "ticks": "",
            "zerolinecolor": "white"
           },
           "zaxis": {
            "backgroundcolor": "#E5ECF6",
            "gridcolor": "white",
            "gridwidth": 2,
            "linecolor": "white",
            "showbackground": true,
            "ticks": "",
            "zerolinecolor": "white"
           }
          },
          "shapedefaults": {
           "line": {
            "color": "#2a3f5f"
           }
          },
          "ternary": {
           "aaxis": {
            "gridcolor": "white",
            "linecolor": "white",
            "ticks": ""
           },
           "baxis": {
            "gridcolor": "white",
            "linecolor": "white",
            "ticks": ""
           },
           "bgcolor": "#E5ECF6",
           "caxis": {
            "gridcolor": "white",
            "linecolor": "white",
            "ticks": ""
           }
          },
          "title": {
           "x": 0.05
          },
          "xaxis": {
           "automargin": true,
           "gridcolor": "white",
           "linecolor": "white",
           "ticks": "",
           "title": {
            "standoff": 15
           },
           "zerolinecolor": "white",
           "zerolinewidth": 2
          },
          "yaxis": {
           "automargin": true,
           "gridcolor": "white",
           "linecolor": "white",
           "ticks": "",
           "title": {
            "standoff": 15
           },
           "zerolinecolor": "white",
           "zerolinewidth": 2
          }
         }
        },
        "title": {
         "text": "Car Types vs Average days cars are listed "
        },
        "xaxis": {
         "anchor": "y",
         "domain": [
          0,
          1
         ],
         "title": {
          "text": "type"
         }
        },
        "yaxis": {
         "anchor": "x",
         "domain": [
          0,
          1
         ],
         "title": {
          "text": "Average days cars are listed"
         }
        }
       }
      }
     },
     "metadata": {},
     "output_type": "display_data"
    }
   ],
   "source": [
    "cars_days_listed=vehicles.groupby('type')['days_listed'].mean().reset_index()\n",
    "print(vehicles['fuel'].unique()) # to ensure all values are unique \n",
    "#print(cars_days_listed.head(50))\n",
    "\n",
    "\n",
    "fig = px.scatter(cars_days_listed, x=\"type\", y=\"days_listed\", \n",
    "                 title=\"Car Types vs Average days cars are listed \",\n",
    "                 labels={ 'days_listed': 'Average days cars are listed'}\n",
    "                 \n",
    "                 )\n",
    "fig.show()\n"
   ]
  },
  {
   "cell_type": "markdown",
   "metadata": {},
   "source": [
    "\n",
    "looking at the scatter plot above we can see that convertible cars stayed on average for less 39 days listed. Meaning that people tend to buy such car types more than types."
   ]
  },
  {
   "cell_type": "markdown",
   "metadata": {},
   "source": [
    "### Car price distrbution between different fuel type:\n",
    "we wanted to see how does fuel type affect the price of a car. "
   ]
  },
  {
   "cell_type": "code",
   "execution_count": 41,
   "metadata": {},
   "outputs": [
    {
     "data": {
      "application/vnd.plotly.v1+json": {
       "config": {
        "plotlyServerURL": "https://plot.ly"
       },
       "data": [
        {
         "bingroup": "x",
         "hovertemplate": "Fuel Type=gas<br>Price (USD)=%{x}<br>count=%{y}<extra></extra>",
         "legendgroup": "gas",
         "marker": {
          "color": "#636efa",
          "pattern": {
           "shape": ""
          }
         },
         "name": "gas",
         "orientation": "v",
         "showlegend": true,
         "type": "histogram",
         "x": {
          "bdata": "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",
          "dtype": "i4"
         },
         "xaxis": "x",
         "yaxis": "y"
        },
        {
         "bingroup": "x",
         "hovertemplate": "Fuel Type=diesel<br>Price (USD)=%{x}<br>count=%{y}<extra></extra>",
         "legendgroup": "diesel",
         "marker": {
          "color": "#EF553B",
          "pattern": {
           "shape": ""
          }
         },
         "name": "diesel",
         "orientation": "v",
         "showlegend": true,
         "type": "histogram",
         "x": {
          "bdata": "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",
          "dtype": "i4"
         },
         "xaxis": "x",
         "yaxis": "y"
        },
        {
         "bingroup": "x",
         "hovertemplate": "Fuel Type=other<br>Price (USD)=%{x}<br>count=%{y}<extra></extra>",
         "legendgroup": "other",
         "marker": {
          "color": "#00cc96",
          "pattern": {
           "shape": ""
          }
         },
         "name": "other",
         "orientation": "v",
         "showlegend": true,
         "type": "histogram",
         "x": {
          "bdata": "LGUAAMtSAABvAAAA/SAAAGNCAAAwdQAAIE4AAJIJAACEOgAAoA8AAIxVAADkcAAAhDoAACxlAAC/IgAA/GwAAORwAACMVQAAvDQAAIxVAACrNgAAIE4AAKs2AACmNgAA5HAAAIxVAACMVQAALGUAACxlAABQFAAAHCUAAEw2AAB7PgAAH04AALeIAACrIgAAjFUAACxlAAD8bAAA4XIAABhgAADbLgAA2y4AAJsPAAAsZQAARBYAALN0AAAsZQAAHUwAADQhAAC0XwAAG04AAKkAAACrNgAAfBUAABRQAAAsZQAABBAAAORwAACUXAAACycAAIQ6AAALJwAA8yoAALRfAAD+agAACycAAFAUAAAUUAAA/moAAKAPAAAPJwAAQB8AAJ4HAABrFwAADh8AANsVAACOEgAA5HAAAIc8AAAvIQAAlFwAAIMTAADkcAAAez4AAPxsAAAcJQAAez4AAJRcAADsLAAAdz4AADsfAACUXAAAD24AAF9CAABYGwAAnGMAAJxjAAD8bAAA/GwAAAiEAABwMAAANCEAAF8ZAAA5AQAAGGAAABhgAABQFAAA",
          "dtype": "i4"
         },
         "xaxis": "x",
         "yaxis": "y"
        },
        {
         "bingroup": "x",
         "hovertemplate": "Fuel Type=hybrid<br>Price (USD)=%{x}<br>count=%{y}<extra></extra>",
         "legendgroup": "hybrid",
         "marker": {
          "color": "#ab63fa",
          "pattern": {
           "shape": ""
          }
         },
         "name": "hybrid",
         "orientation": "v",
         "showlegend": true,
         "type": "histogram",
         "x": {
          "bdata": "3iZDEnAXHCVcRDARcBf4KjQh3ib2IlIDMhmaEMwpfBVODEtG6x6OOkwdZBlMBAsn3AU7HzwPDBdaGTEbXBIvIQsnrA1aGawNMRt7DHAXewzUSQwXlBFaGVMbDDCbDzsfpB9TG/Qa+BHgLmsXSA3QBwAZmw8kE/gRlBHDHqwmaEIkE/gRrCZ/OvAKuxLAEl8ZvE2XNmsXCydoECQTYxnEIqYd7CxkMhcVpSUEQoAMlCqYOsYqmxg7H2IZhhPUMEAfMhnYDpc2UBRgIncuPChMBBQewzIXJZQRODEkE8QJTB25OXslJBMGJ24PaBBwF6wNCyfbLmQXJBMkE9cevyKPKlMbIyNoEJM6xAkjIzsfrA1cEhMjJCyDEzgxAinvGmIRUxuyC8QiTB1DFkwd9BoAGcQJrA1fGSQTdy4uIpAaPA97DFxEyBl8FdgOgAw7H8wQlBEoIyMjqw1EFqAPvwnMdMgZTB3ECTwPdhbwCvYiIyPvGigjmw8OH94mjxEcJVMbgxziHQsndxWOElQLVAt0DjsfrA0EKUAfVBuwBI8RwBLaFjAqWBuUEQRClBGkH6gW/xTIGXwV8ArMEKwNDBekH0MWyyDAGSMj8yqWD6wNiBM9H/MqHD7zKthZiBOENfMqEA4/HwwX5AyDE2YXlg9TG5sPOx9fGYMTijokE/gRCCCgD1xEbCBIDYcTfjYkE/gRJBP4EccyQB9TG8cuzRygDwwXSA1XG1YTN0omG1YTzCkkE/gRghQkEwMpSA2YCLcL+CqADPcRXhqsDTQhNCELJ5QRfC64JAsXLzrfFZ4HCyf8CIMTJBO8GwIhFk63DAwXzBAvIRw+UxvECVxEmAh/CE9G1C56LMASqzZTGwMpDBerNgwAPA/4EfQabxeDE58PkBrbLtwePA9rFzwmlBGsDbgkOx/yEoMT1DBWE20cNCEPI+wsJhvgFX42qzZ+NksdFA+UKqwmZBm8TawN4wzuG98Vcw6zFBguCCAPJxw+IyNMHQ8neibyK8QJfBXbLiQT+BGAPvMqHCWgDyQTJBP4EagWmDojI9QwhzwDKSMjkBqhPfoZPhfMEAoAgxxTGzsfwBI=",
          "dtype": "i2"
         },
         "xaxis": "x",
         "yaxis": "y"
        },
        {
         "bingroup": "x",
         "hovertemplate": "Fuel Type=electric<br>Price (USD)=%{x}<br>count=%{y}<extra></extra>",
         "legendgroup": "electric",
         "marker": {
          "color": "#FFA15A",
          "pattern": {
           "shape": ""
          }
         },
         "name": "electric",
         "orientation": "v",
         "showlegend": true,
         "type": "histogram",
         "x": {
          "bdata": "3B4BANgnmDowEVwS",
          "dtype": "i2"
         },
         "xaxis": "x",
         "yaxis": "y"
        }
       ],
       "layout": {
        "barmode": "relative",
        "legend": {
         "title": {
          "text": "Fuel Type"
         },
         "tracegroupgap": 0
        },
        "template": {
         "data": {
          "bar": [
           {
            "error_x": {
             "color": "#2a3f5f"
            },
            "error_y": {
             "color": "#2a3f5f"
            },
            "marker": {
             "line": {
              "color": "#E5ECF6",
              "width": 0.5
             },
             "pattern": {
              "fillmode": "overlay",
              "size": 10,
              "solidity": 0.2
             }
            },
            "type": "bar"
           }
          ],
          "barpolar": [
           {
            "marker": {
             "line": {
              "color": "#E5ECF6",
              "width": 0.5
             },
             "pattern": {
              "fillmode": "overlay",
              "size": 10,
              "solidity": 0.2
             }
            },
            "type": "barpolar"
           }
          ],
          "carpet": [
           {
            "aaxis": {
             "endlinecolor": "#2a3f5f",
             "gridcolor": "white",
             "linecolor": "white",
             "minorgridcolor": "white",
             "startlinecolor": "#2a3f5f"
            },
            "baxis": {
             "endlinecolor": "#2a3f5f",
             "gridcolor": "white",
             "linecolor": "white",
             "minorgridcolor": "white",
             "startlinecolor": "#2a3f5f"
            },
            "type": "carpet"
           }
          ],
          "choropleth": [
           {
            "colorbar": {
             "outlinewidth": 0,
             "ticks": ""
            },
            "type": "choropleth"
           }
          ],
          "contour": [
           {
            "colorbar": {
             "outlinewidth": 0,
             "ticks": ""
            },
            "colorscale": [
             [
              0,
              "#0d0887"
             ],
             [
              0.1111111111111111,
              "#46039f"
             ],
             [
              0.2222222222222222,
              "#7201a8"
             ],
             [
              0.3333333333333333,
              "#9c179e"
             ],
             [
              0.4444444444444444,
              "#bd3786"
             ],
             [
              0.5555555555555556,
              "#d8576b"
             ],
             [
              0.6666666666666666,
              "#ed7953"
             ],
             [
              0.7777777777777778,
              "#fb9f3a"
             ],
             [
              0.8888888888888888,
              "#fdca26"
             ],
             [
              1,
              "#f0f921"
             ]
            ],
            "type": "contour"
           }
          ],
          "contourcarpet": [
           {
            "colorbar": {
             "outlinewidth": 0,
             "ticks": ""
            },
            "type": "contourcarpet"
           }
          ],
          "heatmap": [
           {
            "colorbar": {
             "outlinewidth": 0,
             "ticks": ""
            },
            "colorscale": [
             [
              0,
              "#0d0887"
             ],
             [
              0.1111111111111111,
              "#46039f"
             ],
             [
              0.2222222222222222,
              "#7201a8"
             ],
             [
              0.3333333333333333,
              "#9c179e"
             ],
             [
              0.4444444444444444,
              "#bd3786"
             ],
             [
              0.5555555555555556,
              "#d8576b"
             ],
             [
              0.6666666666666666,
              "#ed7953"
             ],
             [
              0.7777777777777778,
              "#fb9f3a"
             ],
             [
              0.8888888888888888,
              "#fdca26"
             ],
             [
              1,
              "#f0f921"
             ]
            ],
            "type": "heatmap"
           }
          ],
          "histogram": [
           {
            "marker": {
             "pattern": {
              "fillmode": "overlay",
              "size": 10,
              "solidity": 0.2
             }
            },
            "type": "histogram"
           }
          ],
          "histogram2d": [
           {
            "colorbar": {
             "outlinewidth": 0,
             "ticks": ""
            },
            "colorscale": [
             [
              0,
              "#0d0887"
             ],
             [
              0.1111111111111111,
              "#46039f"
             ],
             [
              0.2222222222222222,
              "#7201a8"
             ],
             [
              0.3333333333333333,
              "#9c179e"
             ],
             [
              0.4444444444444444,
              "#bd3786"
             ],
             [
              0.5555555555555556,
              "#d8576b"
             ],
             [
              0.6666666666666666,
              "#ed7953"
             ],
             [
              0.7777777777777778,
              "#fb9f3a"
             ],
             [
              0.8888888888888888,
              "#fdca26"
             ],
             [
              1,
              "#f0f921"
             ]
            ],
            "type": "histogram2d"
           }
          ],
          "histogram2dcontour": [
           {
            "colorbar": {
             "outlinewidth": 0,
             "ticks": ""
            },
            "colorscale": [
             [
              0,
              "#0d0887"
             ],
             [
              0.1111111111111111,
              "#46039f"
             ],
             [
              0.2222222222222222,
              "#7201a8"
             ],
             [
              0.3333333333333333,
              "#9c179e"
             ],
             [
              0.4444444444444444,
              "#bd3786"
             ],
             [
              0.5555555555555556,
              "#d8576b"
             ],
             [
              0.6666666666666666,
              "#ed7953"
             ],
             [
              0.7777777777777778,
              "#fb9f3a"
             ],
             [
              0.8888888888888888,
              "#fdca26"
             ],
             [
              1,
              "#f0f921"
             ]
            ],
            "type": "histogram2dcontour"
           }
          ],
          "mesh3d": [
           {
            "colorbar": {
             "outlinewidth": 0,
             "ticks": ""
            },
            "type": "mesh3d"
           }
          ],
          "parcoords": [
           {
            "line": {
             "colorbar": {
              "outlinewidth": 0,
              "ticks": ""
             }
            },
            "type": "parcoords"
           }
          ],
          "pie": [
           {
            "automargin": true,
            "type": "pie"
           }
          ],
          "scatter": [
           {
            "fillpattern": {
             "fillmode": "overlay",
             "size": 10,
             "solidity": 0.2
            },
            "type": "scatter"
           }
          ],
          "scatter3d": [
           {
            "line": {
             "colorbar": {
              "outlinewidth": 0,
              "ticks": ""
             }
            },
            "marker": {
             "colorbar": {
              "outlinewidth": 0,
              "ticks": ""
             }
            },
            "type": "scatter3d"
           }
          ],
          "scattercarpet": [
           {
            "marker": {
             "colorbar": {
              "outlinewidth": 0,
              "ticks": ""
             }
            },
            "type": "scattercarpet"
           }
          ],
          "scattergeo": [
           {
            "marker": {
             "colorbar": {
              "outlinewidth": 0,
              "ticks": ""
             }
            },
            "type": "scattergeo"
           }
          ],
          "scattergl": [
           {
            "marker": {
             "colorbar": {
              "outlinewidth": 0,
              "ticks": ""
             }
            },
            "type": "scattergl"
           }
          ],
          "scattermap": [
           {
            "marker": {
             "colorbar": {
              "outlinewidth": 0,
              "ticks": ""
             }
            },
            "type": "scattermap"
           }
          ],
          "scattermapbox": [
           {
            "marker": {
             "colorbar": {
              "outlinewidth": 0,
              "ticks": ""
             }
            },
            "type": "scattermapbox"
           }
          ],
          "scatterpolar": [
           {
            "marker": {
             "colorbar": {
              "outlinewidth": 0,
              "ticks": ""
             }
            },
            "type": "scatterpolar"
           }
          ],
          "scatterpolargl": [
           {
            "marker": {
             "colorbar": {
              "outlinewidth": 0,
              "ticks": ""
             }
            },
            "type": "scatterpolargl"
           }
          ],
          "scatterternary": [
           {
            "marker": {
             "colorbar": {
              "outlinewidth": 0,
              "ticks": ""
             }
            },
            "type": "scatterternary"
           }
          ],
          "surface": [
           {
            "colorbar": {
             "outlinewidth": 0,
             "ticks": ""
            },
            "colorscale": [
             [
              0,
              "#0d0887"
             ],
             [
              0.1111111111111111,
              "#46039f"
             ],
             [
              0.2222222222222222,
              "#7201a8"
             ],
             [
              0.3333333333333333,
              "#9c179e"
             ],
             [
              0.4444444444444444,
              "#bd3786"
             ],
             [
              0.5555555555555556,
              "#d8576b"
             ],
             [
              0.6666666666666666,
              "#ed7953"
             ],
             [
              0.7777777777777778,
              "#fb9f3a"
             ],
             [
              0.8888888888888888,
              "#fdca26"
             ],
             [
              1,
              "#f0f921"
             ]
            ],
            "type": "surface"
           }
          ],
          "table": [
           {
            "cells": {
             "fill": {
              "color": "#EBF0F8"
             },
             "line": {
              "color": "white"
             }
            },
            "header": {
             "fill": {
              "color": "#C8D4E3"
             },
             "line": {
              "color": "white"
             }
            },
            "type": "table"
           }
          ]
         },
         "layout": {
          "annotationdefaults": {
           "arrowcolor": "#2a3f5f",
           "arrowhead": 0,
           "arrowwidth": 1
          },
          "autotypenumbers": "strict",
          "coloraxis": {
           "colorbar": {
            "outlinewidth": 0,
            "ticks": ""
           }
          },
          "colorscale": {
           "diverging": [
            [
             0,
             "#8e0152"
            ],
            [
             0.1,
             "#c51b7d"
            ],
            [
             0.2,
             "#de77ae"
            ],
            [
             0.3,
             "#f1b6da"
            ],
            [
             0.4,
             "#fde0ef"
            ],
            [
             0.5,
             "#f7f7f7"
            ],
            [
             0.6,
             "#e6f5d0"
            ],
            [
             0.7,
             "#b8e186"
            ],
            [
             0.8,
             "#7fbc41"
            ],
            [
             0.9,
             "#4d9221"
            ],
            [
             1,
             "#276419"
            ]
           ],
           "sequential": [
            [
             0,
             "#0d0887"
            ],
            [
             0.1111111111111111,
             "#46039f"
            ],
            [
             0.2222222222222222,
             "#7201a8"
            ],
            [
             0.3333333333333333,
             "#9c179e"
            ],
            [
             0.4444444444444444,
             "#bd3786"
            ],
            [
             0.5555555555555556,
             "#d8576b"
            ],
            [
             0.6666666666666666,
             "#ed7953"
            ],
            [
             0.7777777777777778,
             "#fb9f3a"
            ],
            [
             0.8888888888888888,
             "#fdca26"
            ],
            [
             1,
             "#f0f921"
            ]
           ],
           "sequentialminus": [
            [
             0,
             "#0d0887"
            ],
            [
             0.1111111111111111,
             "#46039f"
            ],
            [
             0.2222222222222222,
             "#7201a8"
            ],
            [
             0.3333333333333333,
             "#9c179e"
            ],
            [
             0.4444444444444444,
             "#bd3786"
            ],
            [
             0.5555555555555556,
             "#d8576b"
            ],
            [
             0.6666666666666666,
             "#ed7953"
            ],
            [
             0.7777777777777778,
             "#fb9f3a"
            ],
            [
             0.8888888888888888,
             "#fdca26"
            ],
            [
             1,
             "#f0f921"
            ]
           ]
          },
          "colorway": [
           "#636efa",
           "#EF553B",
           "#00cc96",
           "#ab63fa",
           "#FFA15A",
           "#19d3f3",
           "#FF6692",
           "#B6E880",
           "#FF97FF",
           "#FECB52"
          ],
          "font": {
           "color": "#2a3f5f"
          },
          "geo": {
           "bgcolor": "white",
           "lakecolor": "white",
           "landcolor": "#E5ECF6",
           "showlakes": true,
           "showland": true,
           "subunitcolor": "white"
          },
          "hoverlabel": {
           "align": "left"
          },
          "hovermode": "closest",
          "mapbox": {
           "style": "light"
          },
          "paper_bgcolor": "white",
          "plot_bgcolor": "#E5ECF6",
          "polar": {
           "angularaxis": {
            "gridcolor": "white",
            "linecolor": "white",
            "ticks": ""
           },
           "bgcolor": "#E5ECF6",
           "radialaxis": {
            "gridcolor": "white",
            "linecolor": "white",
            "ticks": ""
           }
          },
          "scene": {
           "xaxis": {
            "backgroundcolor": "#E5ECF6",
            "gridcolor": "white",
            "gridwidth": 2,
            "linecolor": "white",
            "showbackground": true,
            "ticks": "",
            "zerolinecolor": "white"
           },
           "yaxis": {
            "backgroundcolor": "#E5ECF6",
            "gridcolor": "white",
            "gridwidth": 2,
            "linecolor": "white",
            "showbackground": true,
            "ticks": "",
            "zerolinecolor": "white"
           },
           "zaxis": {
            "backgroundcolor": "#E5ECF6",
            "gridcolor": "white",
            "gridwidth": 2,
            "linecolor": "white",
            "showbackground": true,
            "ticks": "",
            "zerolinecolor": "white"
           }
          },
          "shapedefaults": {
           "line": {
            "color": "#2a3f5f"
           }
          },
          "ternary": {
           "aaxis": {
            "gridcolor": "white",
            "linecolor": "white",
            "ticks": ""
           },
           "baxis": {
            "gridcolor": "white",
            "linecolor": "white",
            "ticks": ""
           },
           "bgcolor": "#E5ECF6",
           "caxis": {
            "gridcolor": "white",
            "linecolor": "white",
            "ticks": ""
           }
          },
          "title": {
           "x": 0.05
          },
          "xaxis": {
           "automargin": true,
           "gridcolor": "white",
           "linecolor": "white",
           "ticks": "",
           "title": {
            "standoff": 15
           },
           "zerolinecolor": "white",
           "zerolinewidth": 2
          },
          "yaxis": {
           "automargin": true,
           "gridcolor": "white",
           "linecolor": "white",
           "ticks": "",
           "title": {
            "standoff": 15
           },
           "zerolinecolor": "white",
           "zerolinewidth": 2
          }
         }
        },
        "title": {
         "text": "Distribution of Price by Fuel Type"
        },
        "xaxis": {
         "anchor": "y",
         "domain": [
          0,
          1
         ],
         "title": {
          "text": "Price (USD)"
         }
        },
        "yaxis": {
         "anchor": "x",
         "domain": [
          0,
          1
         ],
         "title": {
          "text": "count"
         }
        }
       }
      }
     },
     "metadata": {},
     "output_type": "display_data"
    }
   ],
   "source": [
    "car_prices_fuel=vehicles[['fuel','price']]\n",
    "\n",
    "prices_vs_fuel = px.histogram(car_prices_fuel, x='price', color='fuel', \n",
    "                 title='Distribution of Price by Fuel Type',\n",
    "                 labels={'price': 'Price (USD)', 'fuel': 'Fuel Type'})\n",
    "prices_vs_fuel.show()\n"
   ]
  },
  {
   "cell_type": "markdown",
   "metadata": {},
   "source": [
    "The histogram shows most cars that are sold are gas cars and it looks like they are low in price."
   ]
  },
  {
   "cell_type": "markdown",
   "metadata": {},
   "source": [
    "### Conclusion:\n",
    "From looking at the graphs above we had an idea about what type of cars that quickly are sold. Also, we were able to see that gas can affect the price of car and people preference. It might be people prefer cheap fuel type cars. These two graphs gave an idea on what are best seller cars, but we need further studies and data analysis to be certain about people preference on cars, and what type of cars are best for trading."
   ]
  }
 ],
 "metadata": {
  "kernelspec": {
   "display_name": "venv",
   "language": "python",
   "name": "python3"
  },
  "language_info": {
   "codemirror_mode": {
    "name": "ipython",
    "version": 3
   },
   "file_extension": ".py",
   "mimetype": "text/x-python",
   "name": "python",
   "nbconvert_exporter": "python",
   "pygments_lexer": "ipython3",
   "version": "3.13.2"
  }
 },
 "nbformat": 4,
 "nbformat_minor": 2
}
